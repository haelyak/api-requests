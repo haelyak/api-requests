{
 "cells": [
  {
   "cell_type": "markdown",
   "metadata": {},
   "source": [
    "#### week1 ~ the-web-as-filesystem...\n",
    "<hr>"
   ]
  },
  {
   "cell_type": "markdown",
   "metadata": {},
   "source": [
    "#### Reading for hw1...     (hw1pr0.ipynb)\n",
    "\n",
    "\n",
    "<br>\n",
    "Problem 0:      <i><b>(When)  Is webscraping legal and/or ethical?     [5 pts]</b></i>\n",
    "\n",
    "+ This week's reading includes 1+ short articles\n",
    "  + the first is entitled, [\"To Scrape Or Not To Scrape: Technical And Ethical Challenges Of Collecting Data Off The Web,\"](http://www.storybench.org/to-scrape-or-not-to-scrape-the-technical-and-ethical-challenges-of-collecting-data-off-the-web/) by Sophie Chou, from the MIT media lab. \n",
    "  + The \"+\" article is the [Facebook Terms of Service](https://www.facebook.com/terms.php), updated to use the name \"Meta\"   (Perhaps this should be the \"+1\" article?)\n",
    "\n",
    "<br>\n",
    "\n",
    "This problem is decidely _not_ asking you to read the whole Meta ToS!  Rather, it asks you to find Section 3, Subsection 2 \"What you can share and do on Meta.\"   It's relatively short: it's one \"screenful.\"\n",
    "\n",
    "<br>\n",
    "\n",
    "Then, in response to these articles, reflect on any one of these three prompts:\n",
    "+ (Prompt A) The first article has a \"Should you scrape?\" flowchart. Looking that over, find one decision node that you particularly agree -- or disagree -- with and elaborate on why. (Feel free to note whether you feel this hw1 follows the chart!)   \n",
    "+ (Prompt B) Other voices have stated,  \"As long as you follow [websites' rules], you are doing nothing unethical.\"  Do you agree or disagree? Or, feel free to take a middle stance.  \n",
    "+ (Prompt C) Having some of Facebook's ToS, consider its stated requirement \"You may not access or collect data from our Products using automated means (w/o our permission).\"  Elaborate on what you thing \"automated means\" includes -- and doesn't include.   \n",
    "\n",
    "<br>\n",
    "\n",
    "As with each week's reading, responses should be carefully considered, but need not be very long (~5 or so sentences is wonderful).  \n",
    "\n",
    "<hr>"
   ]
  },
  {
   "cell_type": "markdown",
   "metadata": {},
   "source": [
    "#### Reading response\n",
    "\n",
    "(Feel free to use this cell for your response.)\n",
    "\n",
    "A) I found the node \"I think there is a story here\" really interesting because I had never thought about the distinct difference between exploring the data for exploration's sake and actively looking for something in the data. But I think this makes sense because if you are exploring for exploration's sake, you are often keeping the findings to yourself, whereas if you are looking for a story, you probably hope to publicize your findings. The people that this node is probably targeted towards are journalists hoping to uncover something revolutionary (most likely some sort of scandal), which makes it hard for me to agree or disagree with this decision node. I know that there are certain guidelines that journalists must follow, but I also know that some things are never revealed to the public until someone digs in some slightly questionable manner. So should we allow some unethical journalism practices if they reveal scandal that would otherwise remain under wraps? It feels like the answer is no, but then if journalism is not ruled by ethics won't it descend into chaos?\n",
    "\n",
    "+ (thoughts on the ethics of journalism from my recent read \"The Girl with the Dragon Tattoo\")"
   ]
  }
 ],
 "metadata": {
  "interpreter": {
   "hash": "7ccb4bb6bd67730c9185e6c24c983362cd7b4575b595bfae100d8d91e48f4f1e"
  },
  "kernelspec": {
   "display_name": "Python 3.8.8 64-bit (conda)",
   "language": "python",
   "name": "python3"
  },
  "language_info": {
   "codemirror_mode": {
    "name": "ipython",
    "version": 3
   },
   "file_extension": ".py",
   "mimetype": "text/x-python",
   "name": "python",
   "nbconvert_exporter": "python",
   "pygments_lexer": "ipython3",
   "version": "3.10.2"
  },
  "orig_nbformat": 4
 },
 "nbformat": 4,
 "nbformat_minor": 2
}
