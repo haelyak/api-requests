{
 "cells": [
  {
   "cell_type": "markdown",
   "metadata": {},
   "source": [
    "<br>\n",
    "\n",
    "#### cs181y's EC notebook (week1)\n",
    "\n",
    "This is simply a starting notebook, inviting work on the **Lost Grutor** extra-credit challenges this week...\n",
    "\n",
    "For the extra credit,\n",
    "+ you're always able to submit by Tuesday (for the ec, this won't use a Euro)\n",
    "+ feel free to use the ec to venture further afield (as our Lost Grutor has...)\n",
    "+ This challenge uses [What Three Words](https://what3words.com/clip.apples.leap) API :-)"
   ]
  },
  {
   "cell_type": "code",
   "execution_count": null,
   "metadata": {},
   "outputs": [],
   "source": [
    "# This, just to check that the code-cells are working, as well\n",
    "\n",
    "s = \"strawberry\"\n",
    "b = \"brown sugar cinnamon\"\n",
    "\n",
    "if s > b:\n",
    "    print(f\"python believes\\n   '{s}' > '{b}'\")\n",
    "else:\n",
    "    print(f\"python is incorrect...\")\n"
   ]
  },
  {
   "cell_type": "markdown",
   "metadata": {},
   "source": [
    "+ The organization of the extra-credit solutions is quite open-ended (i.e., up to you)\n",
    "+ Please do\n",
    "  + Make sure your notebook runs\n",
    "  + Leave the results you found in your cell outputs\n",
    "  + Be sure you don't submit the files we have\n",
    "  + But _do_ submit any additional files you may need or may have created\n",
    "\n",
    "<br>\n",
    "\n",
    "+ Good luck with the ec -- especially finding our Lost Grutor!\n",
    "\n",
    "<hr>"
   ]
  },
  {
   "cell_type": "code",
   "execution_count": 1,
   "metadata": {},
   "outputs": [
    {
     "name": "stdout",
     "output_type": "stream",
     "text": [
      "Requirement already satisfied: what3words in c:\\users\\tsaik\\appdata\\local\\programs\\python\\python310\\lib\\site-packages (3.1.1)\n",
      "Requirement already satisfied: requests>=2.5.3 in c:\\users\\tsaik\\appdata\\local\\programs\\python\\python310\\lib\\site-packages (from what3words) (2.27.1)\n",
      "Requirement already satisfied: urllib3<1.27,>=1.21.1 in c:\\users\\tsaik\\appdata\\local\\programs\\python\\python310\\lib\\site-packages (from requests>=2.5.3->what3words) (1.26.8)\n",
      "Requirement already satisfied: idna<4,>=2.5 in c:\\users\\tsaik\\appdata\\local\\programs\\python\\python310\\lib\\site-packages (from requests>=2.5.3->what3words) (3.3)\n",
      "Requirement already satisfied: charset-normalizer~=2.0.0 in c:\\users\\tsaik\\appdata\\local\\programs\\python\\python310\\lib\\site-packages (from requests>=2.5.3->what3words) (2.0.11)\n",
      "Requirement already satisfied: certifi>=2017.4.17 in c:\\users\\tsaik\\appdata\\local\\programs\\python\\python310\\lib\\site-packages (from requests>=2.5.3->what3words) (2021.10.8)\n",
      "Note: you may need to restart the kernel to use updated packages.\n"
     ]
    },
    {
     "name": "stderr",
     "output_type": "stream",
     "text": [
      "WARNING: You are using pip version 21.2.4; however, version 22.0.2 is available.\n",
      "You should consider upgrading via the 'C:\\Users\\tsaik\\AppData\\Local\\Programs\\Python\\Python310\\python.exe -m pip install --upgrade pip' command.\n"
     ]
    }
   ],
   "source": [
    "%pip install what3words\n"
   ]
  },
  {
   "cell_type": "code",
   "execution_count": 2,
   "metadata": {},
   "outputs": [],
   "source": [
    "import what3words"
   ]
  },
  {
   "cell_type": "code",
   "execution_count": 3,
   "metadata": {},
   "outputs": [],
   "source": [
    "import requests"
   ]
  },
  {
   "cell_type": "code",
   "execution_count": 4,
   "metadata": {},
   "outputs": [
    {
     "name": "stdout",
     "output_type": "stream",
     "text": [
      "{'varieties.gift.verdict': {'lng': -117.709814, 'lat': 34.106444}, 'entrepreneur.farmland.chains': {'lng': -155.068771, 'lat': 19.725838}, 'strategist.chroniclers.worryingly': {'lng': 164.109222, 'lat': -74.69479}, 'juniors.bids.ladder': {'lng': 12.492301, 'lat': 41.890214}, 'winners.splice.order': {'lng': 37.623106, 'lat': 55.75252}}\n"
     ]
    }
   ],
   "source": [
    "#\n",
    "# web-access 1\n",
    "# my API key AFRG9VHR\n",
    "#\n",
    "\n",
    "def convert_to_coordinates(words):\n",
    "    \"\"\" convert_to_coordinates takes in one string\n",
    "        words: the word triple that we are trying to find the location of\n",
    "        \n",
    "        it will return the json of the coordinates described by the word triple\n",
    "    \"\"\"\n",
    "\n",
    "    search_url = \"https://api.what3words.com/v3/convert-to-coordinates?key=\" + \"AFRG9VHR\"\n",
    "\n",
    "    parameters = { \"words\":words,\n",
    "              }\n",
    "\n",
    "    response = requests.get(search_url, params=parameters)         # request the page\n",
    "    data = response.json()\n",
    "    # print(data)\n",
    "    \n",
    "    if response.status_code == 404:                 # page not found\n",
    "        print(\"For the words\", words, \"There was a problem with getting the page\")\n",
    "        print(search_url)\n",
    "    return data[\"coordinates\"]\n",
    "    \n",
    "\n",
    "\"\"\"This script sends in a list of word triples and returns a dictionary \n",
    "    where the key is the word triple \n",
    "    and the value is the json output of convert_to_coordinates\n",
    "\"\"\"\n",
    "\n",
    "if True:\n",
    "    words = [\"varieties.gift.verdict\",\n",
    "            \"entrepreneur.farmland.chains\",\n",
    "            \"strategist.chroniclers.worryingly\",\n",
    "            \"juniors.bids.ladder\",\n",
    "            \"winners.splice.order\"]\n",
    "    coordinates = {}\n",
    "    i =0\n",
    "    while i < len(words):\n",
    "        coordinates[words[i]] = convert_to_coordinates(words[i])\n",
    "        i+=1\n",
    "    print(coordinates)\n"
   ]
  },
  {
   "cell_type": "code",
   "execution_count": null,
   "metadata": {},
   "outputs": [],
   "source": []
  }
 ],
 "metadata": {
  "interpreter": {
   "hash": "7ccb4bb6bd67730c9185e6c24c983362cd7b4575b595bfae100d8d91e48f4f1e"
  },
  "kernelspec": {
   "display_name": "Python 3.8.8 64-bit (conda)",
   "language": "python",
   "name": "python3"
  },
  "language_info": {
   "codemirror_mode": {
    "name": "ipython",
    "version": 3
   },
   "file_extension": ".py",
   "mimetype": "text/x-python",
   "name": "python",
   "nbconvert_exporter": "python",
   "pygments_lexer": "ipython3",
   "version": "3.10.2"
  },
  "orig_nbformat": 4
 },
 "nbformat": 4,
 "nbformat_minor": 2
}
